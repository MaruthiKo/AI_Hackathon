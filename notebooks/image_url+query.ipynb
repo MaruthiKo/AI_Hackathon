{
  "nbformat": 4,
  "nbformat_minor": 0,
  "metadata": {
    "colab": {
      "provenance": []
    },
    "kernelspec": {
      "name": "python3",
      "display_name": "Python 3"
    },
    "language_info": {
      "name": "python"
    }
  },
  "cells": [
    {
      "cell_type": "code",
      "source": [
        "# !pip install llm==\"0.12\" chromadb==\"0.4.17\" watchdog==\"3.0.0\" supabase pinecone-client gradio\n",
        "# !llm install llm-clip"
      ],
      "metadata": {
        "id": "x0QBQyHyEo15"
      },
      "execution_count": null,
      "outputs": []
    },
    {
      "cell_type": "code",
      "execution_count": 3,
      "metadata": {
        "id": "GYUJNaYY6_C8"
      },
      "outputs": [],
      "source": [
        "import llm\n",
        "import glob\n",
        "import base64\n",
        "import hashlib\n",
        "import chromadb"
      ]
    },
    {
      "cell_type": "code",
      "source": [
        "from supabase import create_client\n",
        "from google.colab import userdata\n",
        "\n",
        "def get_image_url(file_name):\n",
        "  path = \"city_furniture/\" + file_name\n",
        "  url = userdata.get(\"SUPABASE_URL\")\n",
        "  key = userdata.get(\"SUPABASE_KEY\")\n",
        "  BUCKET_NAME = \"image-bin\"\n",
        "\n",
        "  # Client\n",
        "  supabase_client = create_client(url, key)\n",
        "  url = supabase_client.storage.from_(BUCKET_NAME).get_public_url(path)\n",
        "  return url"
      ],
      "metadata": {
        "id": "Jpxan5WBOVVN"
      },
      "execution_count": 4,
      "outputs": []
    },
    {
      "cell_type": "code",
      "source": [
        "get_image_url(\"Bowery Dark Tone Platform Bed.jpg\")"
      ],
      "metadata": {
        "colab": {
          "base_uri": "https://localhost:8080/",
          "height": 36
        },
        "id": "MLrfq6OItyHG",
        "outputId": "99a2bcf8-e7a5-4edd-9472-e5edd4f5b37a"
      },
      "execution_count": 5,
      "outputs": [
        {
          "output_type": "execute_result",
          "data": {
            "text/plain": [
              "'https://kxzrpvbbccaxzwlcalcy.supabase.co/storage/v1/object/public/image-bin/city_furniture/Bowery Dark Tone Platform Bed.jpg?'"
            ],
            "application/vnd.google.colaboratory.intrinsic+json": {
              "type": "string"
            }
          },
          "metadata": {},
          "execution_count": 5
        }
      ]
    },
    {
      "cell_type": "code",
      "source": [
        "## Function to use Fetch request\n",
        "import requests\n",
        "def fetch(task_id):\n",
        "\n",
        "  endpoint = \"https://api.midjourneyapi.xyz/mj/v2/fetch\"\n",
        "\n",
        "  data = {\n",
        "      \"task_id\": task_id\n",
        "  }\n",
        "\n",
        "  response = requests.post(endpoint, json=data)\n",
        "\n",
        "  return response.json()"
      ],
      "metadata": {
        "id": "qCQcMj7_zvRe"
      },
      "execution_count": 6,
      "outputs": []
    },
    {
      "cell_type": "code",
      "source": [
        "## Generate Embeddings\n",
        "\n",
        "images = glob.glob(\"/content/drive/MyDrive/City_Furniture/*.jpg\")\n",
        "\n",
        "model = llm.get_embedding_model(\"clip\")\n",
        "\n",
        "embeddings = []\n",
        "for image in images:\n",
        "  with open(image, \"rb\") as image_file:\n",
        "    embedding = model.embed(image_file.read())\n",
        "    file_name = image.split(\"/\")[-1]\n",
        "    image_url = get_image_url(file_name)\n",
        "    image_url = image_url.replace(\" \",\"%20\")\n",
        "    embeddings.append({\n",
        "      \"embedding\": embedding,\n",
        "      \"filePath\": image,\n",
        "      \"image_url\": image_url,\n",
        "      \"id\": base64.b64encode(hashlib.sha256(image.encode()).digest()).decode()\n",
        "    })"
      ],
      "metadata": {
        "id": "ANRn_onjEUKC"
      },
      "execution_count": null,
      "outputs": []
    },
    {
      "cell_type": "code",
      "source": [
        "embeddings[29]\n",
        "# len(embeddings)"
      ],
      "metadata": {
        "id": "MZwNS6yPOf_E"
      },
      "execution_count": null,
      "outputs": []
    },
    {
      "cell_type": "code",
      "source": [
        "from pinecone import Pinecone, ServerlessSpec\n",
        "from google.colab import userdata\n",
        "\n",
        "# Initialize Pinecone client\n",
        "pinecone_api_key = userdata.get(\"PINECONE_API_KEY\")\n",
        "index_name = \"test2\"\n",
        "\n",
        "pc = Pinecone(api_key=pinecone_api_key)\n",
        "\n",
        "# Now do stuff\n",
        "if index_name not in pc.list_indexes().names():\n",
        "  pc.create_index(\n",
        "            name=index_name,\n",
        "            dimension=512,\n",
        "            metric='euclidean',\n",
        "            spec=ServerlessSpec(\n",
        "                cloud='aws',\n",
        "                region='us-west-2'\n",
        "            )\n",
        "        )\n",
        "index = pc.Index(index_name)\n",
        "# Add embeddings and metadata to the index\n",
        "for e in embeddings:\n",
        "    index.upsert(vectors=[\n",
        "        {\n",
        "            \"id\":e[\"id\"],\n",
        "            \"values\": e[\"embedding\"],\n",
        "            \"metadata\": {\n",
        "            \"filePath\": e[\"filePath\"],\n",
        "            \"image_url\": e[\"image_url\"]\n",
        "                      }\n",
        "        },\n",
        "    ])"
      ],
      "metadata": {
        "id": "QRvgWfrpDRII"
      },
      "execution_count": 10,
      "outputs": []
    },
    {
      "cell_type": "code",
      "source": [
        "## Query the embedding\n",
        "\n",
        "query_embedding = model.embed(\"a black table made of engineering wood\")\n",
        "index_response = index.query(\n",
        "    vector=query_embedding,\n",
        "    top_k=1,\n",
        "    includeMetadata= True\n",
        ")"
      ],
      "metadata": {
        "id": "WQGXG7PbHGV5"
      },
      "execution_count": 19,
      "outputs": []
    },
    {
      "cell_type": "code",
      "source": [
        "index_response"
      ],
      "metadata": {
        "colab": {
          "base_uri": "https://localhost:8080/"
        },
        "id": "NPNtiEIiHef4",
        "outputId": "2b071589-e4e7-478c-b2e7-b841a479fba9"
      },
      "execution_count": 20,
      "outputs": [
        {
          "output_type": "execute_result",
          "data": {
            "text/plain": [
              "{'matches': [{'id': 'HtEe0PMDBOW6KTPsxTV1jAgrIxEn4JRBKmt5/5sjzb8=',\n",
              "              'metadata': {'filePath': '/content/drive/MyDrive/City_Furniture/Alden '\n",
              "                                       'Black Nightstand.jpg',\n",
              "                           'image_url': 'https://kxzrpvbbccaxzwlcalcy.supabase.co/storage/v1/object/public/image-bin/city_furniture/Alden%20Black%20Nightstand.jpg?'},\n",
              "              'score': 136.520721,\n",
              "              'values': []}],\n",
              " 'namespace': '',\n",
              " 'usage': {'read_units': 6}}"
            ]
          },
          "metadata": {},
          "execution_count": 20
        }
      ]
    },
    {
      "cell_type": "code",
      "source": [
        "index.describe_index_stats()"
      ],
      "metadata": {
        "colab": {
          "base_uri": "https://localhost:8080/"
        },
        "id": "IWDx-lYdG8H_",
        "outputId": "e5f0b9f3-ad58-4e5d-e56d-8ff982047f3b"
      },
      "execution_count": 15,
      "outputs": [
        {
          "output_type": "execute_result",
          "data": {
            "text/plain": [
              "{'dimension': 512,\n",
              " 'index_fullness': 0.0,\n",
              " 'namespaces': {'': {'vector_count': 30}},\n",
              " 'total_vector_count': 30}"
            ]
          },
          "metadata": {},
          "execution_count": 15
        }
      ]
    },
    {
      "cell_type": "code",
      "source": [
        "import requests\n",
        "from google.colab import userdata\n",
        "import time\n",
        "\n",
        "# Function to generate Image based on the user query\n",
        "\n",
        "def image_generation(image_url, user_query):\n",
        "  prompt = f\"{image_url} {user_query}\"\n",
        "\n",
        "  X_API_KEY = userdata.get(\"X_API_KEY\")\n",
        "\n",
        "  endpoint = \"https://api.midjourneyapi.xyz/mj/v2/imagine\"\n",
        "\n",
        "  headers = {\n",
        "      \"X-API-KEY\": X_API_KEY\n",
        "  }\n",
        "\n",
        "  data = {\n",
        "      \"prompt\": prompt,\n",
        "      \"process_mode\": \"fast\",\n",
        "  }\n",
        "\n",
        "  response = requests.post(endpoint, headers=headers, json=data)\n",
        "  image_gen_req_output = response.json()\n",
        "  task_id = image_gen_req_output[\"task_id\"]\n",
        "  time.sleep(60)\n",
        "\n",
        "  ##### FETCH for Image ######\n",
        "  fetch_response = fetch(task_id)\n",
        "  while fetch_response[\"status\"] == \"processing\":\n",
        "    time.sleep(20)\n",
        "    fetch_response = fetch(task_id)\n",
        "  image = fetch_response[\"task_result\"][\"image_url\"]\n",
        "  return image"
      ],
      "metadata": {
        "id": "u-7gRQX7NyfH"
      },
      "execution_count": 16,
      "outputs": []
    },
    {
      "cell_type": "code",
      "source": [
        "import requests\n",
        "from google.colab import userdata\n",
        "\n",
        "def upscale(task_id, index):\n",
        "\n",
        "  X_API_KEY = userdata.get(\"X_API_KEY\")\n",
        "\n",
        "  endpoint = \"https://api.midjourneyapi.xyz/mj/v2/upscale\"\n",
        "\n",
        "  headers = {\n",
        "      \"X-API-KEY\": X_API_KEY\n",
        "  }\n",
        "\n",
        "  data = {\n",
        "      \"origin_task_id\": task_id,\n",
        "      \"index\": index\n",
        "  }\n",
        "\n",
        "  response = requests.post(endpoint, headers=headers, json=data)\n",
        "  upscale_gen_req_output = response.json()\n",
        "  task_id = upscale_gen_req_output[\"task_id\"]\n",
        "  time.sleep(30)\n",
        "\n",
        "  ##### FETCH for Upscaled Image ######\n",
        "  fetch_response = fetch(task_id)\n",
        "  while fetch_response[\"status\"] == \"processing\":\n",
        "    time.sleep(10)\n",
        "    fetch_response = fetch(task_id)\n",
        "  image_url = fetch_response[\"task_result\"][\"image_url\"]\n",
        "  return image_url"
      ],
      "metadata": {
        "id": "C_soQU8Go29o"
      },
      "execution_count": 17,
      "outputs": []
    },
    {
      "cell_type": "code",
      "source": [
        "def main():\n",
        "  query = input(\"Enter your query: \")\n",
        "  query_embedding = model.embed(query)\n",
        "  index_response = index.query(\n",
        "      vector=query_embedding,\n",
        "      top_k=1,\n",
        "      includeMetadata= True\n",
        "  )\n",
        "\n",
        "  data = index_response[\"matches\"][0][\"metadata\"]\n",
        "\n",
        "  image_url = data[\"image_url\"].replace(\" \",\"%20\")\n",
        "\n",
        "  url = image_generation(image_url, query)\n",
        "\n",
        "  return url"
      ],
      "metadata": {
        "id": "TB4syB-Actdm"
      },
      "execution_count": 21,
      "outputs": []
    },
    {
      "cell_type": "code",
      "source": [
        "main()"
      ],
      "metadata": {
        "colab": {
          "base_uri": "https://localhost:8080/",
          "height": 54
        },
        "id": "ygDImMe-w0R-",
        "outputId": "4b56eb6e-d72c-444f-d829-589c3369d3ec"
      },
      "execution_count": 22,
      "outputs": [
        {
          "name": "stdout",
          "output_type": "stream",
          "text": [
            "Enter your query: a black dining table made of engineering wood \n"
          ]
        },
        {
          "output_type": "execute_result",
          "data": {
            "text/plain": [
              "'https://img.midjourneyapi.xyz/mj/b4f2f1d4-5d60-43b3-ae7a-6a78135391b2.png'"
            ],
            "application/vnd.google.colaboratory.intrinsic+json": {
              "type": "string"
            }
          },
          "metadata": {},
          "execution_count": 22
        }
      ]
    },
    {
      "cell_type": "markdown",
      "source": [
        "## Test Results\n",
        "\n",
        "\n",
        "<h4>Query: A black nightstand</h4>\n",
        "<img src=\"https://img.midjourneyapi.xyz/mj/c5e34671-98af-46a7-8d2b-a468d486a832.png\">\n",
        "\n",
        "\n",
        "<h4>Query: A large maplewood bed </h4>\n",
        "<img src=\"https://img.midjourneyapi.xyz/mj/0b7d043d-011d-4a96-9115-f7765cf24a84.png\">\n",
        "\n",
        "<h4>Query: A large bench </h4>\n",
        "<img src=\"https://img.midjourneyapi.xyz/mj/cfcb5620-be84-4253-9130-767b6e8c63fc.png\">"
      ],
      "metadata": {
        "id": "qKbcFG-7ohd3"
      }
    },
    {
      "cell_type": "code",
      "source": [],
      "metadata": {
        "id": "_98zd3BDdc5s"
      },
      "execution_count": null,
      "outputs": []
    }
  ]
}