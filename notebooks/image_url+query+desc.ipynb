{
  "nbformat": 4,
  "nbformat_minor": 0,
  "metadata": {
    "colab": {
      "provenance": []
    },
    "kernelspec": {
      "name": "python3",
      "display_name": "Python 3"
    },
    "language_info": {
      "name": "python"
    }
  },
  "cells": [
    {
      "cell_type": "code",
      "source": [
        "# !pip install llm==\"0.12\" chromadb==\"0.4.17\" watchdog==\"3.0.0\" langchain langchain_openai supabase pinecone-client\n",
        "# !llm install llm-clip"
      ],
      "metadata": {
        "id": "x0QBQyHyEo15"
      },
      "execution_count": null,
      "outputs": []
    },
    {
      "cell_type": "code",
      "execution_count": 1,
      "metadata": {
        "id": "GYUJNaYY6_C8"
      },
      "outputs": [],
      "source": [
        "import llm\n",
        "import glob\n",
        "import base64\n",
        "import hashlib\n",
        "import chromadb"
      ]
    },
    {
      "cell_type": "code",
      "source": [
        "from supabase import create_client\n",
        "from google.colab import userdata\n",
        "\n",
        "def get_image_url(file_name):\n",
        "  path = \"city_furniture/\" + file_name\n",
        "  url = userdata.get(\"SUPABASE_URL\")\n",
        "  key = userdata.get(\"SUPABASE_KEY\")\n",
        "  BUCKET_NAME = \"image-bin\"\n",
        "\n",
        "  # Client\n",
        "  supabase_client = create_client(url, key)\n",
        "  url = supabase_client.storage.from_(BUCKET_NAME).get_public_url(path)\n",
        "  return url"
      ],
      "metadata": {
        "id": "Jpxan5WBOVVN"
      },
      "execution_count": 2,
      "outputs": []
    },
    {
      "cell_type": "code",
      "source": [
        "# get_image_url(\"Alden Black Nightstand.jpg\")"
      ],
      "metadata": {
        "colab": {
          "base_uri": "https://localhost:8080/",
          "height": 35
        },
        "id": "MLrfq6OItyHG",
        "outputId": "e402290a-e094-4415-8242-f8b6356cce46"
      },
      "execution_count": 18,
      "outputs": [
        {
          "output_type": "execute_result",
          "data": {
            "text/plain": [
              "'https://kxzrpvbbccaxzwlcalcy.supabase.co/storage/v1/object/public/image-bin/city_furniture/Alden Black Nightstand.jpg?'"
            ],
            "application/vnd.google.colaboratory.intrinsic+json": {
              "type": "string"
            }
          },
          "metadata": {},
          "execution_count": 18
        }
      ]
    },
    {
      "cell_type": "code",
      "source": [
        "## Function to use Fetch request\n",
        "import requests\n",
        "def fetch(task_id):\n",
        "\n",
        "  endpoint = \"https://api.midjourneyapi.xyz/mj/v2/fetch\"\n",
        "\n",
        "  data = {\n",
        "      \"task_id\": task_id\n",
        "  }\n",
        "\n",
        "  response = requests.post(endpoint, json=data)\n",
        "\n",
        "  return response.json()"
      ],
      "metadata": {
        "id": "qCQcMj7_zvRe"
      },
      "execution_count": 3,
      "outputs": []
    },
    {
      "cell_type": "code",
      "source": [
        "from langchain.chains import LLMChain\n",
        "from langchain_core.prompts import PromptTemplate\n",
        "from langchain_openai import OpenAI\n",
        "# from langchain_openai import ChatOpenAI\n",
        "from google.colab import userdata\n",
        "\n",
        "\n",
        "## Function to get the summary of the 4 descriptions\n",
        "def summarize_desc(desc):\n",
        "  template = \"\"\"Description: {description}\n",
        "  Given are 4 different descriptions of a product image. Read through each description to create a single summarized description of the product, the summarized description will be used for a text to image model. Make sure the words are not repeated and use only the above given descriptions to create a summarized description.\n",
        "  Response: Start the response with the word 'Imagine' \"\"\"\n",
        "  api_key = userdata.get(\"OPEN_API_KEY\")\n",
        "  prompt = PromptTemplate.from_template(template)\n",
        "  llm = OpenAI(openai_api_key=api_key)\n",
        "  # llm = ChatOpenAI(temperature=0, openai_api_key=api_key)\n",
        "  llm_chain = LLMChain(prompt=prompt, llm=llm)\n",
        "\n",
        "  summarized_description = llm_chain.run(desc)\n",
        "  return summarized_description"
      ],
      "metadata": {
        "id": "rndl6yDnxRDK"
      },
      "execution_count": 28,
      "outputs": []
    },
    {
      "cell_type": "code",
      "source": [
        "import requests\n",
        "from google.colab import userdata\n",
        "import time\n",
        "\n",
        "### Returns Image description based on Image Url\n",
        "def get_image_description(img_url):\n",
        "\n",
        "  X_API_KEY = userdata.get(\"X_API_KEY\")\n",
        "\n",
        "  endpoint = \"https://api.midjourneyapi.xyz/mj/v2/describe\"\n",
        "\n",
        "  headers = {\n",
        "      \"X-API-KEY\": X_API_KEY\n",
        "  }\n",
        "\n",
        "  data = {\n",
        "      \"image_url\": img_url,\n",
        "      \"process_mode\": \"relax\",\n",
        "  }\n",
        "\n",
        "  response = requests.post(endpoint, headers=headers, json=data)\n",
        "\n",
        "  # response.status_code\n",
        "  desc_output = response.json()\n",
        "  task_id = desc_output[\"task_id\"]\n",
        "  time.sleep(30)\n",
        "  ##### FETCH for description\n",
        "  fetch_response = fetch(task_id)\n",
        "  while fetch_response[\"status\"] == \"processing\":\n",
        "    time.sleep(10)\n",
        "    fetch_response = fetch(task_id)\n",
        "  descriptions = fetch_response[\"task_result\"][\"message\"]\n",
        "  summarized_desc = summarize_desc(descriptions)\n",
        "  return summarized_desc"
      ],
      "metadata": {
        "id": "3uBU_frcOYPZ"
      },
      "execution_count": 16,
      "outputs": []
    },
    {
      "cell_type": "code",
      "source": [
        "test_image_desc = get_image_description(\"https://kxzrpvbbccaxzwlcalcy.supabase.co/storage/v1/object/public/image-bin/city_furniture/Ollie White Nightstand.jpg?\")"
      ],
      "metadata": {
        "id": "mCFbv23pzOjD"
      },
      "execution_count": 17,
      "outputs": []
    },
    {
      "cell_type": "code",
      "source": [
        "test_image_desc"
      ],
      "metadata": {
        "colab": {
          "base_uri": "https://localhost:8080/",
          "height": 52
        },
        "id": "k1_hoCycNrCd",
        "outputId": "bf77af64-4add-4326-d80d-8ed7be8cc4b3"
      },
      "execution_count": 18,
      "outputs": [
        {
          "output_type": "execute_result",
          "data": {
            "text/plain": [
              "'\\nImagine a high resolution white nightstand with two drawers and green accents, featuring professional photography and lighting, isolated on a black or white background, in a 16:9 aspect ratio.'"
            ],
            "application/vnd.google.colaboratory.intrinsic+json": {
              "type": "string"
            }
          },
          "metadata": {},
          "execution_count": 18
        }
      ]
    },
    {
      "cell_type": "code",
      "source": [
        "# description_test = \"\"\"1️⃣ White nightstand with two drawers, front view, white background, green light strip on the right side of the picture, white desk in the back, no shadow, product photography, simple design, modern style, high resolution, high contrast, vibrant colors, natural lighting, professional studio setup, photographed with a Nikon D850 camera and 2470mm f/3.5 lens, studio lighting, in the style of modern product photography. --ar 16:9\n",
        "\n",
        "# 2️⃣ White nightstand with two drawers, high resolution and realistic image. The white desk has black handles on the front. There is green light coming out from under one edge of its top panel. It stands against an isolated background. High quality photo. --ar 16:9\n",
        "\n",
        "# 3️⃣ A white wooden nightstand with two drawers and green LED lights, on a white background, with high resolution product photography style in the setting of a modern bedroom. The bottom part has a wood grain texture. It has two large empty spaces for drawing or writing, in the style of a modern bedroom setting. --ar 16:9\n",
        "\n",
        "# 4️⃣ White nightstand with two drawers, a green neon light in the background, a white wooden texture, high resolution, high quality, detailed, isolated on a black or transparent background. --ar 16:9\"\"\"\n",
        "# summarize_desc(description_test)"
      ],
      "metadata": {
        "colab": {
          "base_uri": "https://localhost:8080/",
          "height": 87
        },
        "id": "0SnYhb4LBHkb",
        "outputId": "80ccc182-47ec-4cdb-a8da-45620e6fef86"
      },
      "execution_count": 12,
      "outputs": [
        {
          "output_type": "execute_result",
          "data": {
            "text/plain": [
              "'\\nImagine a modern white nightstand with two drawers, featuring a sleek design with a white desk in the background and a subtle green light strip on the right side. The high-resolution, high contrast product image is captured with professional studio setup and showcases vibrant colors and natural lighting. Perfect for a modern bedroom, this nightstand also has a wood grain texture and two large empty spaces for drawing or writing. With a green neon light in the background, this white nightstand is a stylish and functional addition to any room. --ar 16:9'"
            ],
            "application/vnd.google.colaboratory.intrinsic+json": {
              "type": "string"
            }
          },
          "metadata": {},
          "execution_count": 12
        }
      ]
    },
    {
      "cell_type": "code",
      "source": [
        "## Generate Embeddings\n",
        "\n",
        "images = glob.glob(\"/content/drive/MyDrive/City_Furniture/*.jpg\")\n",
        "\n",
        "model = llm.get_embedding_model(\"clip\")\n",
        "\n",
        "embeddings = []\n",
        "for image in images:\n",
        "  with open(image, \"rb\") as image_file:\n",
        "    embedding = model.embed(image_file.read())\n",
        "    file_name = image.split(\"/\")[-1]\n",
        "    # TODO: Create a function to get description of the file using the file URL => Description of the Image\n",
        "    # TODO: Create a function to get summary of the description generated => Summary of desc\n",
        "    image_url = get_image_url(file_name)\n",
        "    description = get_image_description(image_url)\n",
        "    embeddings.append({\n",
        "      \"embedding\": embedding,\n",
        "      \"filePath\": image,\n",
        "      \"image_url\": image_url,\n",
        "      \"description\": description,\n",
        "      \"id\": base64.b64encode(hashlib.sha256(image.encode()).digest()).decode()\n",
        "    })"
      ],
      "metadata": {
        "colab": {
          "base_uri": "https://localhost:8080/"
        },
        "id": "ANRn_onjEUKC",
        "outputId": "86c3a194-38cd-42be-83e1-a54986935c24"
      },
      "execution_count": 19,
      "outputs": [
        {
          "output_type": "stream",
          "name": "stderr",
          "text": [
            "/usr/local/lib/python3.10/dist-packages/huggingface_hub/utils/_token.py:88: UserWarning: \n",
            "The secret `HF_TOKEN` does not exist in your Colab secrets.\n",
            "To authenticate with the Hugging Face Hub, create a token in your settings tab (https://huggingface.co/settings/tokens), set it as secret in your Google Colab and restart your session.\n",
            "You will be able to reuse this secret in all of your notebooks.\n",
            "Please note that authentication is recommended but still optional to access public models or datasets.\n",
            "  warnings.warn(\n"
          ]
        }
      ]
    },
    {
      "cell_type": "code",
      "source": [
        "embeddings[10]"
      ],
      "metadata": {
        "id": "MZwNS6yPOf_E"
      },
      "execution_count": null,
      "outputs": []
    },
    {
      "cell_type": "code",
      "source": [
        "from pinecone import Pinecone, ServerlessSpec\n",
        "from google.colab import userdata\n",
        "\n",
        "# Initialize Pinecone client\n",
        "pinecone_api_key = userdata.get(\"PINECONE_API_KEY\")\n",
        "index_name = \"test\"\n",
        "\n",
        "pc = Pinecone(api_key=pinecone_api_key)\n",
        "\n",
        "# Now do stuff\n",
        "if index_name not in pc.list_indexes().names():\n",
        "  pc.create_index(\n",
        "            name=index_name,\n",
        "            dimension=512,\n",
        "            metric='euclidean',\n",
        "            spec=ServerlessSpec(\n",
        "                cloud='aws',\n",
        "                region='us-west-2'\n",
        "            )\n",
        "        )\n",
        "index = pc.Index(index_name)\n",
        "# Add embeddings and metadata to the index\n",
        "for e in embeddings:\n",
        "    index.upsert(vectors=[\n",
        "        {\n",
        "            \"id\":e[\"id\"],\n",
        "            \"values\": e[\"embedding\"],\n",
        "            \"metadata\": {\n",
        "            \"filePath\": e[\"filePath\"],\n",
        "            \"description\": e[\"description\"],\n",
        "            \"image_url\": e[\"image_url\"]\n",
        "                      }\n",
        "        },\n",
        "    ])"
      ],
      "metadata": {
        "id": "QRvgWfrpDRII"
      },
      "execution_count": 22,
      "outputs": []
    },
    {
      "cell_type": "code",
      "source": [
        "## Query the embedding\n",
        "\n",
        "query_embedding = model.embed(\"A large maplewood bed\")\n",
        "index_response = index.query(\n",
        "    vector=query_embedding,\n",
        "    top_k=1,\n",
        "    includeMetadata= True\n",
        ")\n",
        "\n",
        "data = index_response[\"matches\"][0][\"metadata\"]"
      ],
      "metadata": {
        "id": "WQGXG7PbHGV5"
      },
      "execution_count": 49,
      "outputs": []
    },
    {
      "cell_type": "code",
      "source": [
        "data"
      ],
      "metadata": {
        "colab": {
          "base_uri": "https://localhost:8080/"
        },
        "id": "NPNtiEIiHef4",
        "outputId": "5a3f4cf2-edac-4e28-f264-2fb0bf2f74bf"
      },
      "execution_count": 50,
      "outputs": [
        {
          "output_type": "execute_result",
          "data": {
            "text/plain": [
              "{'description': '\\n\\nImagine a white leather bed with a modern, minimalistic design. It features a high gloss finish, silver accents, and a low profile frame. The bed comes in a king size with a high back panel and is adorned with dark blue accent pillows. The product is showcased in high resolution photography on a dark grey background.',\n",
              " 'filePath': '/content/drive/MyDrive/City_Furniture/Cortina White Uph Platform Bed.jpg',\n",
              " 'image_url': 'https://kxzrpvbbccaxzwlcalcy.supabase.co/storage/v1/object/public/image-bin/city_furniture/Cortina White Uph Platform Bed.jpg?'}"
            ]
          },
          "metadata": {},
          "execution_count": 50
        }
      ]
    },
    {
      "cell_type": "code",
      "source": [
        "index.describe_index_stats()"
      ],
      "metadata": {
        "colab": {
          "base_uri": "https://localhost:8080/"
        },
        "id": "IWDx-lYdG8H_",
        "outputId": "cc3a4d50-c08c-4f01-d7a5-e7c0f719314b"
      },
      "execution_count": 27,
      "outputs": [
        {
          "output_type": "execute_result",
          "data": {
            "text/plain": [
              "{'dimension': 512,\n",
              " 'index_fullness': 0.0,\n",
              " 'namespaces': {'': {'vector_count': 20}},\n",
              " 'total_vector_count': 20}"
            ]
          },
          "metadata": {},
          "execution_count": 27
        }
      ]
    },
    {
      "cell_type": "code",
      "source": [
        "import requests\n",
        "from google.colab import userdata\n",
        "import time\n",
        "# Function to generate Image based on the user query\n",
        "\n",
        "def image_generation(image_url, user_query, description):\n",
        "  prompt = f\"{image_url} {user_query}, {description}\"\n",
        "\n",
        "  X_API_KEY = userdata.get(\"X_API_KEY\")\n",
        "\n",
        "  endpoint = \"https://api.midjourneyapi.xyz/mj/v2/imagine\"\n",
        "\n",
        "  headers = {\n",
        "      \"X-API-KEY\": X_API_KEY\n",
        "  }\n",
        "\n",
        "  data = {\n",
        "      \"prompt\": prompt,\n",
        "      \"process_mode\": \"fast\",\n",
        "  }\n",
        "\n",
        "  response = requests.post(endpoint, headers=headers, json=data)\n",
        "  image_gen_req_output = response.json()\n",
        "  task_id = image_gen_req_output[\"task_id\"]\n",
        "  time.sleep(60)\n",
        "\n",
        "  ##### FETCH for Image\n",
        "  fetch_response = fetch(task_id)\n",
        "  while fetch_response[\"status\"] == \"processing\":\n",
        "    time.sleep(20)\n",
        "    fetch_response = fetch(task_id)\n",
        "  print(fetch_response)\n",
        "  image = fetch_response[\"task_result\"][\"image_url\"]\n",
        "  return image"
      ],
      "metadata": {
        "id": "u-7gRQX7NyfH"
      },
      "execution_count": 62,
      "outputs": []
    },
    {
      "cell_type": "code",
      "source": [
        "## Query the embedding\n",
        "\n",
        "def main():\n",
        "  query = input(\"Enter your query: \")\n",
        "  query_embedding = model.embed(query)\n",
        "  index_response = index.query(\n",
        "      vector=query_embedding,\n",
        "      top_k=1,\n",
        "      includeMetadata= True\n",
        "  )\n",
        "\n",
        "  data = index_response[\"matches\"][0][\"metadata\"]\n",
        "\n",
        "  image_url = data[\"image_url\"].replace(\" \",\"%20\")\n",
        "  description = data[\"description\"]\n",
        "\n",
        "  url = image_generation(image_url, query, description)\n",
        "  return url"
      ],
      "metadata": {
        "id": "TB4syB-Actdm"
      },
      "execution_count": 63,
      "outputs": []
    },
    {
      "cell_type": "code",
      "source": [
        "main()"
      ],
      "metadata": {
        "colab": {
          "base_uri": "https://localhost:8080/",
          "height": 90
        },
        "id": "bmB0zwY8sJKN",
        "outputId": "fce23a18-09ed-4649-bcbd-bdc7c5af0047"
      },
      "execution_count": 65,
      "outputs": [
        {
          "output_type": "stream",
          "name": "stdout",
          "text": [
            "Enter your query: A Large Bench\n",
            "{'task_id': 'fe035e06-015c-40e4-aa14-eca27dabd3b3', 'status': 'finished', 'process_time': 46, 'retry_count': 0, 'meta': {'account_id': '2858', 'task_type': 'imagine', 'origin_task_id': '', 'bot_hash': '', 'bot_id': 0, 'model_version': 'unknown', 'process_mode': 'fast', 'quota_frozen': 14, 'frozen_credit': 0, 'created_at': 1712848215, 'created_at_utc': '2024-04-11 15:10:15 +0000 UTC', 'started_at': 1712848233, 'started_at_utc': '2024-04-11 15:10:33 +0000 UTC', 'ended_at': 1712848279, 'ended_at_utc': '2024-04-11 15:11:19 +0000 UTC', 'task_request': {'aspect_ratio': '', 'auto_upload': False, 'bot_id': 0, 'process_mode': 'fast', 'prompt': 'https://kxzrpvbbccaxzwlcalcy.supabase.co/storage/v1/object/public/image-bin/city_furniture/Logan%20Dark%20Tone%20Nightstand.jpg? A Large Bench, Imagine a product with four different descriptions - a unique, all-in-one solution for your needs.', 'skip_prompt_check': False, 'skip_retry': False, 'upload_prompt_image': False}, 'task_param': {'prompt': 'https://kxzrpvbbccaxzwlcalcy.supabase.co/storage/v1/object/public/image-bin/city_furniture/Logan%20Dark%20Tone%20Nightstand.jpg? A Large Bench, Imagine a product with four different descriptions - a unique, all-in-one solution for your needs. --fast', 'index': '', 'zoom_ratio': '2', 'aspect_ratio': '1:1', 'direction': ''}}, 'task_result': {'discord_image_url': 'https://img.midjourneyapi.xyz/mj/fe035e06-015c-40e4-aa14-eca27dabd3b3.png', 'image_url': 'https://img.midjourneyapi.xyz/mj/fe035e06-015c-40e4-aa14-eca27dabd3b3.png', 'image_urls': [], 'permanent_url': '', 'task_progress': 100, 'intermediate_image_urls': None, 'image_id': '', 'seed': '', 'result_message_id': '', 'quota_used': 14, 'credit': 0, 'message': '', 'warning': '', 'error_messages': [], 'need_retry': True, 'actions': ['reroll', 'upscale1', 'upscale2', 'upscale3', 'upscale4', 'variation1', 'variation2', 'variation3', 'variation4']}}\n"
          ]
        },
        {
          "output_type": "execute_result",
          "data": {
            "text/plain": [
              "'https://img.midjourneyapi.xyz/mj/fe035e06-015c-40e4-aa14-eca27dabd3b3.png'"
            ],
            "application/vnd.google.colaboratory.intrinsic+json": {
              "type": "string"
            }
          },
          "metadata": {},
          "execution_count": 65
        }
      ]
    },
    {
      "cell_type": "markdown",
      "source": [
        "## Test Results\n",
        "\n",
        "\n",
        "<h4>Query: A black nightstand</h4>\n",
        "<img src=\"https://img.midjourneyapi.xyz/mj/07161110-5ce3-4ff3-b407-db5241719523.png\">\n",
        "\n",
        "\n",
        "<h4>Query: A large maplewood bed </h4>\n",
        "<img src=\"https://img.midjourneyapi.xyz/mj/a6cf2a63-216b-466c-a17a-4f09a432a0bb.png\">\n",
        "\n",
        "<h4>Query: A large bench </h4>\n",
        "<img src=\"https://img.midjourneyapi.xyz/mj/fe035e06-015c-40e4-aa14-eca27dabd3b3.png\">"
      ],
      "metadata": {
        "id": "qKbcFG-7ohd3"
      }
    },
    {
      "cell_type": "code",
      "source": [],
      "metadata": {
        "id": "_98zd3BDdc5s"
      },
      "execution_count": null,
      "outputs": []
    }
  ]
}